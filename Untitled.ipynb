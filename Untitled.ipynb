{
 "cells": [
  {
   "cell_type": "markdown",
   "id": "958b7849-2f31-404d-9732-3821069c7a1f",
   "metadata": {},
   "source": [
    "# My project\n",
    "## Part 1"
   ]
  },
  {
   "cell_type": "code",
   "execution_count": 2,
   "id": "c9b318c3-f0e3-4597-81b2-1e0020abc242",
   "metadata": {},
   "outputs": [
    {
     "name": "stdout",
     "output_type": "stream",
     "text": [
      "Hello, JPMC world\n"
     ]
    }
   ],
   "source": [
    "print(\"Hello, JPMC world\")"
   ]
  },
  {
   "cell_type": "code",
   "execution_count": null,
   "id": "361960dd-cf76-47df-8f41-96f60490db11",
   "metadata": {},
   "outputs": [],
   "source": []
  }
 ],
 "metadata": {
  "kernelspec": {
   "display_name": "Python 3 (ipykernel)",
   "language": "python",
   "name": "python3"
  },
  "language_info": {
   "codemirror_mode": {
    "name": "ipython",
    "version": 3
   },
   "file_extension": ".py",
   "mimetype": "text/x-python",
   "name": "python",
   "nbconvert_exporter": "python",
   "pygments_lexer": "ipython3",
   "version": "3.11.7"
  }
 },
 "nbformat": 4,
 "nbformat_minor": 5
}
